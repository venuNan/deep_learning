{
 "cells": [
  {
   "cell_type": "markdown",
   "metadata": {},
   "source": [
    "# Definition"
   ]
  },
  {
   "cell_type": "markdown",
   "metadata": {},
   "source": [
    "- Deep learning is a subset of Artificial intelligence which is inspired by the architecture of a brain.\n",
    "- Deep learning algorithms draws conclusion similar to human by analysing the given data with a given logical structure called neural network.\n",
    "- the basic building block of a deep learning is a neural network which is also known Artifical neural netwoks"
   ]
  },
  {
   "cell_type": "markdown",
   "metadata": {},
   "source": [
    "## Why deep learning is getting famous"
   ]
  },
  {
   "cell_type": "markdown",
   "metadata": {},
   "source": [
    "- Applicability\n",
    "- Performance (Surpassing the human experts)"
   ]
  },
  {
   "cell_type": "markdown",
   "metadata": {},
   "source": [
    "## Feature extraction in Deep learning"
   ]
  },
  {
   "cell_type": "markdown",
   "metadata": {},
   "source": [
    "- In machine learning we need to manually extract the features. it would we very complicated if it is a complex problem.\n",
    "- In Deep learning feature extraction is easy where the features are extracted by the NN."
   ]
  },
  {
   "cell_type": "markdown",
   "metadata": {},
   "source": [
    "## Types of ANN"
   ]
  },
  {
   "cell_type": "markdown",
   "metadata": {},
   "source": [
    "- ANN (Artificial neural networks)\n",
    "- CNN (Convolutional neural networks)\n",
    "- RNN (Recurrent neural networks)\n",
    "- GAN (generative adverserial networks)"
   ]
  },
  {
   "cell_type": "markdown",
   "metadata": {},
   "source": [
    "## DL vs ML"
   ]
  },
  {
   "cell_type": "markdown",
   "metadata": {},
   "source": [
    "- Data dependency\n",
    "- Hardware Dependency\n",
    "- Training time\n",
    "- feature extraction\n",
    "- Interpretability"
   ]
  }
 ],
 "metadata": {
  "language_info": {
   "name": "python"
  }
 },
 "nbformat": 4,
 "nbformat_minor": 2
}
